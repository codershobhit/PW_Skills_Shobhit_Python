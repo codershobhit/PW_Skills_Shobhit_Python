{
 "cells": [
  {
   "cell_type": "markdown",
   "id": "58e1347d-1560-45f8-9f41-e6c2fcea7e9a",
   "metadata": {},
   "source": [
    "Python was developed by Guido van Rossum"
   ]
  },
  {
   "cell_type": "markdown",
   "id": "e5a886e0-e3e9-4dfd-a50f-92ec2aeaa552",
   "metadata": {},
   "source": [
    "Python support both object oriented programming and structured programming"
   ]
  },
  {
   "cell_type": "markdown",
   "id": "fcdd2c2c-9a98-4ad7-9df7-e93da6c3dd8b",
   "metadata": {},
   "source": [
    "Python is a case-sensitive language (applies to identifiers too)"
   ]
  },
  {
   "cell_type": "markdown",
   "id": "b91ab4ae-38b4-445e-bf31-e74b74df6ed3",
   "metadata": {},
   "source": [
    "Python extension is .py"
   ]
  },
  {
   "cell_type": "markdown",
   "id": "c646ec17-c796-45dd-9991-145858946e61",
   "metadata": {},
   "source": [
    "Python is an interpreted language"
   ]
  },
  {
   "cell_type": "markdown",
   "id": "7475abc3-4779-40bc-9a9a-b20955a9c043",
   "metadata": {},
   "source": [
    "A block of code in python program is a module, a function body, and a class definition "
   ]
  },
  {
   "cell_type": "markdown",
   "id": "73251771-7a84-4bca-a636-5d544dbcf098",
   "metadata": {},
   "source": [
    "\"#\" is used for single line comment "
   ]
  },
  {
   "cell_type": "markdown",
   "id": "b39130a5-7fd5-492f-92e8-f7a79fde6907",
   "metadata": {},
   "source": [
    "python_version() is used to find the version of the python"
   ]
  },
  {
   "cell_type": "markdown",
   "id": "053346bb-cbc9-4519-9ca1-bc7024d22ae3",
   "metadata": {},
   "source": [
    "Python support anonymous function called Lambda"
   ]
  },
  {
   "cell_type": "markdown",
   "id": "65797f24-9c23-461c-a45c-0fa85eedc8eb",
   "metadata": {},
   "source": [
    "pip stands for \"preferred installer program\""
   ]
  },
  {
   "cell_type": "markdown",
   "id": "9ad505be-5788-4ecd-96ae-f9fddc7f27a6",
   "metadata": {},
   "source": [
    "Built-in functions in python are print(), type(), input(), pow(), max(), min(), len(), etc "
   ]
  },
  {
   "cell_type": "markdown",
   "id": "f85f1de9-82d1-4d06-b855-ef38c5cd7558",
   "metadata": {},
   "source": [
    "An identifier can have a maximum length of 79 characters"
   ]
  },
  {
   "cell_type": "markdown",
   "id": "bb87ab93-6b58-4550-a3b5-4bf95917a2ce",
   "metadata": {},
   "source": [
    "One of the main benefit of using python is a open source, general purpose, interpreted, high-level programming language"
   ]
  },
  {
   "cell_type": "markdown",
   "id": "85c6cc5e-e7b3-4b71-bb83-8a75ccb85ce1",
   "metadata": {},
   "source": [
    "Memory in python is managed by Python private heap space"
   ]
  },
  {
   "cell_type": "markdown",
   "id": "2996690e-079a-40c3-b58c-dad5d3230b57",
   "metadata": {},
   "source": [
    "Python for Windows are available on python.org.\n",
    "Install it\n",
    "To set path variable\n",
    "In This PC, and select Properties. Once in the properties menu, click on the Advanced system settings option.\n",
    "Add complete path the new Environment Variable"
   ]
  },
  {
   "cell_type": "markdown",
   "id": "311c2cbb-54b0-44e6-8516-1e10bea92784",
   "metadata": {},
   "source": [
    "Indentation in python is very important"
   ]
  },
  {
   "cell_type": "code",
   "execution_count": null,
   "id": "7bef460d-b0a2-47e5-b7f3-601bbf765492",
   "metadata": {},
   "outputs": [],
   "source": []
  }
 ],
 "metadata": {
  "kernelspec": {
   "display_name": "Python 3 (ipykernel)",
   "language": "python",
   "name": "python3"
  },
  "language_info": {
   "codemirror_mode": {
    "name": "ipython",
    "version": 3
   },
   "file_extension": ".py",
   "mimetype": "text/x-python",
   "name": "python",
   "nbconvert_exporter": "python",
   "pygments_lexer": "ipython3",
   "version": "3.10.8"
  }
 },
 "nbformat": 4,
 "nbformat_minor": 5
}
