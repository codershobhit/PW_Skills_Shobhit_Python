{
 "cells": [
  {
   "cell_type": "markdown",
   "id": "158b0425-d15f-480d-9490-1ad020789cc6",
   "metadata": {},
   "source": [
    "# Accept percentage and display grade"
   ]
  },
  {
   "cell_type": "code",
   "execution_count": null,
   "id": "c558de54-46cd-467b-a9dc-bda4556b6e8f",
   "metadata": {},
   "outputs": [],
   "source": [
    "n = int(input(\"Enter the percentage\"))\n",
    "if n>90 and n<=100:\n",
    "    print(\"A\")\n",
    "elif n>80 and n<=90:\n",
    "    print(\"B\")\n",
    "elif n>60 and n<=80:\n",
    "    print(\"C\")\n",
    "elif n>0 and n<=60:\n",
    "    print(\"D\")\n",
    "else:\n",
    "    print(\"Invalid percentage\")"
   ]
  },
  {
   "cell_type": "markdown",
   "id": "5afc592c-a23e-497d-b0c9-7d2d8dda0419",
   "metadata": {},
   "source": [
    "# Accept the costprice and dispay the Tax"
   ]
  },
  {
   "cell_type": "code",
   "execution_count": null,
   "id": "46e9a31b-49a7-4d87-89c1-3fb9b7e8aea3",
   "metadata": {},
   "outputs": [],
   "source": [
    "c = int(input(\"Enter the cost price of bike\"))\n",
    "if c>100000:\n",
    "    print(\"Road tax is \",c*0.15)\n",
    "elif c>50000 and c<=100000:\n",
    "    print(\"Road tax is \",c*0.10)\n",
    "else:\n",
    "    print(\"Road tax is \",c*0.05)\n",
    "    "
   ]
  },
  {
   "cell_type": "markdown",
   "id": "58d77ea0-99c4-40cc-ba8e-abbe1554ea03",
   "metadata": {},
   "source": [
    "# Accept city dispay monuments"
   ]
  },
  {
   "cell_type": "code",
   "execution_count": null,
   "id": "996d857c-b1a3-4be6-9ed2-19be793617f1",
   "metadata": {},
   "outputs": [],
   "source": [
    "dict1 = {\n",
    "'Delhi':'Red Fort',\n",
    "'Agra':'Taj Mahal',\n",
    "'Jaipur':'Jal Mahal'}\n",
    "i = input(\"Enter the city\")\n",
    "n = i.capitalize()\n",
    "if n in dict1.keys():\n",
    "    print(dict1[n])\n",
    "else:\n",
    "    print(\"Invalid city\")\n",
    "    "
   ]
  },
  {
   "cell_type": "markdown",
   "id": "e5138568-2567-4d41-af86-b62fea12c478",
   "metadata": {},
   "source": [
    "# Accept the number and display how many times it is divided by 3 before it reach 10 or below"
   ]
  },
  {
   "cell_type": "code",
   "execution_count": 29,
   "id": "4b136428-acf7-4ac6-9921-d82d69d394db",
   "metadata": {},
   "outputs": [
    {
     "name": "stdin",
     "output_type": "stream",
     "text": [
      "Enter the Number 300\n"
     ]
    },
    {
     "name": "stdout",
     "output_type": "stream",
     "text": [
      "4 times\n"
     ]
    }
   ],
   "source": [
    "n = int(input(\"Enter the Number\"))\n",
    "ctr=0\n",
    "while n>10:\n",
    "    n=n/3\n",
    "    ctr=ctr+1\n",
    "print(\"{} times\".format(ctr))"
   ]
  },
  {
   "cell_type": "markdown",
   "id": "5120a555-0848-408e-a070-3e35534553ee",
   "metadata": {},
   "source": [
    "# Reverse a while loop to display the number from 10 to 1"
   ]
  },
  {
   "cell_type": "code",
   "execution_count": 32,
   "id": "0ec8cc68-9348-4d20-87d0-139ecf68d842",
   "metadata": {},
   "outputs": [
    {
     "name": "stdout",
     "output_type": "stream",
     "text": [
      "10\n",
      "9\n",
      "8\n",
      "7\n",
      "6\n",
      "5\n",
      "4\n",
      "3\n",
      "2\n",
      "1\n"
     ]
    }
   ],
   "source": [
    "n=10\n",
    "while n>0:\n",
    "    print(n)\n",
    "    n=n-1"
   ]
  },
  {
   "cell_type": "markdown",
   "id": "c7b05c20-7a73-4f31-a615-8e61c9a4326f",
   "metadata": {},
   "source": [
    "# Why we use while loop with example"
   ]
  },
  {
   "cell_type": "raw",
   "id": "d17ed9d2-082e-4aba-a50b-0b9246e6ed74",
   "metadata": {},
   "source": [
    "In python we use while loop to run a block code until a certain condition is met.\n",
    "Example:\n",
    "i=1\n",
    "n=10\n",
    "while i>=n:\n",
    "    print(i)\n",
    "    i=i+1\n",
    "\n",
    "Output:\n",
    "1\n",
    "2\n",
    "3\n",
    "4\n",
    "5\n",
    "6\n",
    "7\n",
    "8\n",
    "9\n",
    "10"
   ]
  },
  {
   "cell_type": "markdown",
   "id": "447800af-5f59-4a5f-90ce-0e84d3f0731d",
   "metadata": {},
   "source": [
    "# Patterns Printing using nested looping"
   ]
  },
  {
   "cell_type": "code",
   "execution_count": 36,
   "id": "162f8393-8fc2-420e-908e-87e4e035e837",
   "metadata": {},
   "outputs": [
    {
     "name": "stdout",
     "output_type": "stream",
     "text": [
      "* \t\n",
      "* * \t\n",
      "* * * \t\n",
      "* * * * \t\n",
      "* * * * * \t\n"
     ]
    }
   ],
   "source": [
    "for i in range(5):\n",
    "    for j in range(i+1):\n",
    "        print(\"* \", end=\"\")\n",
    "    print(\"\\t\")"
   ]
  },
  {
   "cell_type": "code",
   "execution_count": 43,
   "id": "e2ae38a7-1ba8-4649-a475-2d9a288d6244",
   "metadata": {},
   "outputs": [
    {
     "name": "stdout",
     "output_type": "stream",
     "text": [
      "* * * * * \t\n",
      "* * * * \t\n",
      "* * * \t\n",
      "* * \t\n",
      "* \t\n"
     ]
    }
   ],
   "source": [
    "for i in range(5,0,-1):\n",
    "    for j in range(i):\n",
    "        print(\"* \", end=\"\")\n",
    "    print(\"\\t\")\n",
    "    "
   ]
  },
  {
   "cell_type": "code",
   "execution_count": 47,
   "id": "d235c07e-3073-44ba-91fa-82f319e4edf3",
   "metadata": {},
   "outputs": [
    {
     "name": "stdout",
     "output_type": "stream",
     "text": [
      "*********\n",
      " *******\n",
      "  *****\n",
      "   ***\n",
      "    *\n"
     ]
    }
   ],
   "source": [
    "n=5\n",
    "k=0\n",
    "for i in range(n,0,-1):\n",
    "    print(\" \"*k+\"*\"*i+\"*\"*(i-1))\n",
    "    k+=1"
   ]
  },
  {
   "cell_type": "code",
   "execution_count": 48,
   "id": "bac35323-17ad-4505-bdad-4d852dd8acd0",
   "metadata": {},
   "outputs": [
    {
     "name": "stdout",
     "output_type": "stream",
     "text": [
      "    *\n",
      "   ***\n",
      "  *****\n",
      " *******\n",
      "*********\n",
      " *******\n",
      "  *****\n",
      "   ***\n",
      "    *\n",
      "     \n"
     ]
    }
   ],
   "source": [
    "n=5\n",
    "for i in range(1,n+1):\n",
    "    print(\" \"*(n-i)+\"*\"*i+\"*\"*(i-1))\n",
    "k=1\n",
    "for i in range(n,0,-1):\n",
    "    print(\" \"*k+\"*\"*(i-2)+\"*\"*(i-1))\n",
    "    k+=1"
   ]
  },
  {
   "cell_type": "code",
   "execution_count": null,
   "id": "f98f698c-1bef-49bd-9804-9d3b3dba9ac2",
   "metadata": {},
   "outputs": [],
   "source": []
  }
 ],
 "metadata": {
  "kernelspec": {
   "display_name": "Python 3 (ipykernel)",
   "language": "python",
   "name": "python3"
  },
  "language_info": {
   "codemirror_mode": {
    "name": "ipython",
    "version": 3
   },
   "file_extension": ".py",
   "mimetype": "text/x-python",
   "name": "python",
   "nbconvert_exporter": "python",
   "pygments_lexer": "ipython3",
   "version": "3.10.8"
  }
 },
 "nbformat": 4,
 "nbformat_minor": 5
}
